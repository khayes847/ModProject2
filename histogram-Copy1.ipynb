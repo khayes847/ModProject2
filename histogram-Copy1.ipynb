{
 "cells": [
  {
   "cell_type": "code",
   "execution_count": null,
   "metadata": {},
   "outputs": [],
   "source": [
    "# Importing programs, porting in database\n",
    "import sqlite3\n",
    "import pandas as pd\n",
    "import matplotlib.pyplot as plt\n",
    "%matplotlib inline\n",
    "conn = sqlite3.connect('database.sqlite')\n",
    "c = conn.cursor()"
   ]
  },
  {
   "cell_type": "code",
   "execution_count": null,
   "metadata": {},
   "outputs": [],
   "source": [
    "# Creating list of home teams, away teams, and winners\n",
    "c.execute(\"\"\"select date, HomeTeam, AwayTeam, FTHG, FTAG, FTR\n",
    "                    from matches\n",
    "                    where Season == 2011;\"\"\")\n",
    "df_res = pd.DataFrame(c.fetchall())\n",
    "df_res.columns = [x[0] for x in c.description]"
   ]
  },
  {
   "cell_type": "code",
   "execution_count": null,
   "metadata": {},
   "outputs": [],
   "source": [
    "# Changing date to datetime\n",
    "df_res['Date'] = df_res.Date.map(lambda x:\n",
    "                                 pd.to_datetime(x[:10],\n",
    "                                                format='%Y/%m/%d'))"
   ]
  },
  {
   "cell_type": "code",
   "execution_count": null,
   "metadata": {},
   "outputs": [],
   "source": [
    "# Creating a list of winning and losing teams for each game\n",
    "df_res['homeValue'] = df_res.apply((lambda x: \"win\" if x['FTR'] == \"H\" else (\n",
    "    \"loss\" if x['FTR'] == \"A\" else \"draw\")), axis=1)\n",
    "\n",
    "df_res['awayValue'] = df_res.apply((lambda x: \"win\" if x['FTR'] == \"A\" else (\n",
    "    \"loss\" if x['FTR'] == \"H\" else \"draw\")), axis=1)"
   ]
  },
  {
   "cell_type": "code",
   "execution_count": null,
   "metadata": {},
   "outputs": [],
   "source": [
    "# Creating lists of winning teams\n",
    "df_win_home = df_res.loc[df_res.FTR == \"H\", ['Date', 'HomeTeam', 'FTHG']]\n",
    "df_win_away = df_res.loc[df_res.FTR == \"A\", ['Date', 'AwayTeam', 'FTAG']]\n",
    "\n",
    "# Unifying column names\n",
    "df_win_away = df_win_away.rename(columns={'AwayTeam': 'Team', \"FTAG\": \"Goals\"})\n",
    "df_win_home = df_win_home.rename(columns={'HomeTeam': 'Team', \"FTHG\": \"Goals\"})\n",
    "\n",
    "# Creating full list of winning teams\n",
    "df_win = pd.concat([df_win_home, df_win_away])"
   ]
  },
  {
   "cell_type": "code",
   "execution_count": null,
   "metadata": {},
   "outputs": [],
   "source": [
    "# Creating lists of losing teams\n",
    "df_lose_home = df_res.loc[df_res.FTR == \"A\", ['Date', 'HomeTeam', 'FTHG']]\n",
    "df_lose_away = df_res.loc[df_res.FTR == \"H\", ['Date', 'AwayTeam', 'FTAG']]"
   ]
  },
  {
   "cell_type": "code",
   "execution_count": null,
   "metadata": {},
   "outputs": [],
   "source": [
    "# Unifying column names\n",
    "df_lose_away = df_lose_away.rename(\n",
    "    columns={'AwayTeam': 'Team', \"FTAG\": \"Goals\"})\n",
    "df_lose_home = df_lose_home.rename(\n",
    "    columns={'HomeTeam': 'Team', \"FTHG\": \"Goals\"})"
   ]
  },
  {
   "cell_type": "code",
   "execution_count": null,
   "metadata": {},
   "outputs": [],
   "source": [
    "# Creating full list of losing teams\n",
    "df_lose = pd.concat([df_lose_home, df_lose_away])"
   ]
  },
  {
   "cell_type": "code",
   "execution_count": null,
   "metadata": {},
   "outputs": [],
   "source": [
    "def winloss(team):\n",
    "    wins = df_win.loc[(df_win['Team'] == team), ['Goals']]\n",
    "    losses = df_lose.loc[(df_lose['Team'] == team), ['Goals']]\n",
    "    losses = list(losses.Goals)\n",
    "    wins = list(wins.Goals)\n",
    "    plt.figure(figsize=(10, 8))\n",
    "    plt.hist(x=wins, bins=(max(wins)+1), density=True, alpha=.5, color='blue')\n",
    "    plt.hist(x=losses, bins=(max(wins)+1),\n",
    "             density=True, alpha=.5, color='green')\n",
    "    plt.xticks(range(max(wins)+1))\n",
    "    print(list(wins))\n",
    "    print(list(losses))"
   ]
  }
 ],
 "metadata": {
  "kernelspec": {
   "display_name": "Python 3",
   "language": "python",
   "name": "python3"
  },
  "language_info": {
   "codemirror_mode": {
    "name": "ipython",
    "version": 3
   },
   "file_extension": ".py",
   "mimetype": "text/x-python",
   "name": "python",
   "nbconvert_exporter": "python",
   "pygments_lexer": "ipython3",
   "version": "3.7.3"
  }
 },
 "nbformat": 4,
 "nbformat_minor": 2
}
