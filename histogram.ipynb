{
 "cells": [
  {
   "cell_type": "code",
   "execution_count": 45,
   "metadata": {},
   "outputs": [],
   "source": [
    "# Importing programs, porting in database\n",
    "import sqlite3\n",
    "import pandas as pd\n",
    "conn = sqlite3.connect('database.sqlite')\n",
    "c = conn.cursor()"
   ]
  },
  {
   "cell_type": "code",
   "execution_count": 4,
   "metadata": {},
   "outputs": [],
   "source": [
    "# Creating dataset for each team with total number of home\n",
    "# games played, and home goals scored.\n",
    "c.execute(\"\"\"select distinct HomeTeam as team,\n",
    "                    count(HomeTeam) as homeGames,\n",
    "                    sum(FTHG) as homeGoals\n",
    "                    from matches\n",
    "                    where Season == 2011\n",
    "                    group by 1;\"\"\")\n",
    "df_home = pd.DataFrame(c.fetchall())\n",
    "df_home.columns = [x[0] for x in c.description]"
   ]
  },
  {
   "cell_type": "code",
   "execution_count": 5,
   "metadata": {},
   "outputs": [],
   "source": [
    "# Creating dataset for each team with total number of away\n",
    "# games played, and away goals scored.\n",
    "c.execute(\"\"\"select distinct AwayTeam as team,\n",
    "                    count(AwayTeam) as awayGames,\n",
    "                    sum(FTAG) as awayGoals\n",
    "                    from matches\n",
    "                    where Season == 2011\n",
    "                    group by 1;\"\"\")\n",
    "df_away = pd.DataFrame(c.fetchall())\n",
    "df_away.columns = [x[0] for x in c.description]"
   ]
  },
  {
   "cell_type": "code",
   "execution_count": 6,
   "metadata": {},
   "outputs": [],
   "source": [
    "# Merging datasets\n",
    "df_total = pd.merge(df_home, df_away, on=\"team\")"
   ]
  },
  {
   "cell_type": "code",
   "execution_count": 7,
   "metadata": {},
   "outputs": [],
   "source": [
    "# Summing total games played.\n",
    "df_total['totalGamesplayed'] = df_total.apply(\n",
    "    (lambda x: x['homeGames']+x['awayGames']), axis=1)"
   ]
  },
  {
   "cell_type": "code",
   "execution_count": 8,
   "metadata": {},
   "outputs": [],
   "source": [
    "# Summing total goals earned.\n",
    "df_total['totalPointsearned'] = df_total.apply(\n",
    "    (lambda x: x['homeGoals']+x['awayGoals']), axis=1)"
   ]
  },
  {
   "cell_type": "code",
   "execution_count": 9,
   "metadata": {},
   "outputs": [],
   "source": [
    "# Dropping unnecessary columns\n",
    "df_total = df_total.drop(\n",
    "    columns=['homeGames', 'homeGoals', 'awayGames', 'awayGoals'])"
   ]
  },
  {
   "cell_type": "code",
   "execution_count": 46,
   "metadata": {},
   "outputs": [],
   "source": [
    "# Creating list of home teams, away teams, and winners\n",
    "c.execute(\"\"\"select date, HomeTeam, AwayTeam, FTHG, FTAG, FTR\n",
    "                    from matches\n",
    "                    where Season == 2011;\"\"\")\n",
    "df_res = pd.DataFrame(c.fetchall())\n",
    "df_res.columns = [x[0] for x in c.description]"
   ]
  },
  {
   "cell_type": "code",
   "execution_count": 47,
   "metadata": {},
   "outputs": [],
   "source": [
    "# Changing date to datetime\n",
    "df_res['Date'] = df_res.Date.map(lambda x:\n",
    "                                 pd.to_datetime(x[:10],\n",
    "                                                format='%Y/%m/%d'))"
   ]
  },
  {
   "cell_type": "code",
   "execution_count": 48,
   "metadata": {},
   "outputs": [],
   "source": [
    "# Creating a list of winning and losing teams for each game\n",
    "df_res['homeValue'] = df_res.apply((lambda x: \"win\" if x['FTR'] == \"H\" else (\n",
    "    \"loss\" if x['FTR'] == \"A\" else \"draw\")), axis=1)\n",
    "\n",
    "df_res['awayValue'] = df_res.apply((lambda x: \"win\" if x['FTR'] == \"A\" else (\n",
    "    \"loss\" if x['FTR'] == \"H\" else \"draw\")), axis=1)"
   ]
  },
  {
   "cell_type": "code",
   "execution_count": 13,
   "metadata": {},
   "outputs": [],
   "source": [
    "# Counting number of games each team has won and lost\n",
    "lc_df = df_res['gamesLost'].value_counts()\n",
    "wc_df = df_res['gamesWon'].value_counts()"
   ]
  },
  {
   "cell_type": "code",
   "execution_count": 14,
   "metadata": {},
   "outputs": [],
   "source": [
    "# Resetting indexes\n",
    "lc_df = lc_df.reset_index()\n",
    "wc_df = wc_df.reset_index()"
   ]
  },
  {
   "cell_type": "code",
   "execution_count": 15,
   "metadata": {},
   "outputs": [],
   "source": [
    "# Merge win and loss datasets\n",
    "df_all = pd.merge(wc_df, lc_df, on=\"index\")"
   ]
  },
  {
   "cell_type": "code",
   "execution_count": 16,
   "metadata": {},
   "outputs": [],
   "source": [
    "# Change column name\n",
    "df_all = df_all.rename(columns={'index': 'team'})"
   ]
  },
  {
   "cell_type": "code",
   "execution_count": 17,
   "metadata": {},
   "outputs": [],
   "source": [
    "# Merge datasets\n",
    "df_total = df_total.merge(df_all, how=\"left\", on=\"team\")"
   ]
  },
  {
   "cell_type": "code",
   "execution_count": 24,
   "metadata": {},
   "outputs": [
    {
     "data": {
      "text/plain": [
       "56"
      ]
     },
     "execution_count": 24,
     "metadata": {},
     "output_type": "execute_result"
    }
   ],
   "source": [
    "df_total.team.nunique()"
   ]
  },
  {
   "cell_type": "code",
   "execution_count": 19,
   "metadata": {},
   "outputs": [],
   "source": [
    "import matplotlib.pyplot as plt\n",
    "%matplotlib inline"
   ]
  },
  {
   "cell_type": "code",
   "execution_count": 20,
   "metadata": {},
   "outputs": [],
   "source": [
    "total_won = df_total['gamesWon']\n",
    "total_lost = df_total['gamesLost']"
   ]
  },
  {
   "cell_type": "code",
   "execution_count": 23,
   "metadata": {},
   "outputs": [
    {
     "data": {
      "text/plain": [
       "(array([0.02678571, 0.02678571, 0.03571429, 0.0625    , 0.04464286,\n",
       "        0.10714286, 0.08928571, 0.04464286, 0.02678571, 0.03571429]),\n",
       " array([ 3.,  5.,  7.,  9., 11., 13., 15., 17., 19., 21., 23.]),\n",
       " <a list of 10 Patch objects>)"
      ]
     },
     "execution_count": 23,
     "metadata": {},
     "output_type": "execute_result"
    },
    {
     "data": {
      "image/png": "[encoded data removed]",
      "text/plain": [
       "<Figure size 720x576 with 1 Axes>"
      ]
     },
     "metadata": {
      "needs_background": "light"
     },
     "output_type": "display_data"
    }
   ],
   "source": [
    "plt.figure(figsize = (10,8))\n",
    "plt.hist(total_won, bins = 10, density = True, alpha =0.5, color = 'blue')\n",
    "plt.hist(total_lost, bins = 10, density = True, alpha = 0.5, color = 'green')"
   ]
  },
  {
   "cell_type": "code",
   "execution_count": 49,
   "metadata": {},
   "outputs": [
    {
     "data": {
      "text/html": [
       "<div>\n",
       "<style scoped>\n",
       "    .dataframe tbody tr th:only-of-type {\n",
       "        vertical-align: middle;\n",
       "    }\n",
       "\n",
       "    .dataframe tbody tr th {\n",
       "        vertical-align: top;\n",
       "    }\n",
       "\n",
       "    .dataframe thead th {\n",
       "        text-align: right;\n",
       "    }\n",
       "</style>\n",
       "<table border=\"1\" class=\"dataframe\">\n",
       "  <thead>\n",
       "    <tr style=\"text-align: right;\">\n",
       "      <th></th>\n",
       "      <th>Date</th>\n",
       "      <th>HomeTeam</th>\n",
       "      <th>AwayTeam</th>\n",
       "      <th>FTHG</th>\n",
       "      <th>FTAG</th>\n",
       "      <th>FTR</th>\n",
       "      <th>homeValue</th>\n",
       "      <th>awayValue</th>\n",
       "    </tr>\n",
       "  </thead>\n",
       "  <tbody>\n",
       "    <tr>\n",
       "      <th>0</th>\n",
       "      <td>2012-03-31</td>\n",
       "      <td>Nurnberg</td>\n",
       "      <td>Bayern Munich</td>\n",
       "      <td>0</td>\n",
       "      <td>1</td>\n",
       "      <td>A</td>\n",
       "      <td>loss</td>\n",
       "      <td>win</td>\n",
       "    </tr>\n",
       "    <tr>\n",
       "      <th>1</th>\n",
       "      <td>2011-12-11</td>\n",
       "      <td>Stuttgart</td>\n",
       "      <td>Bayern Munich</td>\n",
       "      <td>1</td>\n",
       "      <td>2</td>\n",
       "      <td>A</td>\n",
       "      <td>loss</td>\n",
       "      <td>win</td>\n",
       "    </tr>\n",
       "    <tr>\n",
       "      <th>2</th>\n",
       "      <td>2011-08-13</td>\n",
       "      <td>Wolfsburg</td>\n",
       "      <td>Bayern Munich</td>\n",
       "      <td>0</td>\n",
       "      <td>1</td>\n",
       "      <td>A</td>\n",
       "      <td>loss</td>\n",
       "      <td>win</td>\n",
       "    </tr>\n",
       "    <tr>\n",
       "      <th>3</th>\n",
       "      <td>2011-11-27</td>\n",
       "      <td>Mainz</td>\n",
       "      <td>Bayern Munich</td>\n",
       "      <td>3</td>\n",
       "      <td>2</td>\n",
       "      <td>H</td>\n",
       "      <td>win</td>\n",
       "      <td>loss</td>\n",
       "    </tr>\n",
       "    <tr>\n",
       "      <th>4</th>\n",
       "      <td>2012-02-18</td>\n",
       "      <td>Freiburg</td>\n",
       "      <td>Bayern Munich</td>\n",
       "      <td>0</td>\n",
       "      <td>0</td>\n",
       "      <td>D</td>\n",
       "      <td>draw</td>\n",
       "      <td>draw</td>\n",
       "    </tr>\n",
       "  </tbody>\n",
       "</table>\n",
       "</div>"
      ],
      "text/plain": [
       "        Date   HomeTeam       AwayTeam  FTHG  FTAG FTR homeValue awayValue\n",
       "0 2012-03-31   Nurnberg  Bayern Munich     0     1   A      loss       win\n",
       "1 2011-12-11  Stuttgart  Bayern Munich     1     2   A      loss       win\n",
       "2 2011-08-13  Wolfsburg  Bayern Munich     0     1   A      loss       win\n",
       "3 2011-11-27      Mainz  Bayern Munich     3     2   H       win      loss\n",
       "4 2012-02-18   Freiburg  Bayern Munich     0     0   D      draw      draw"
      ]
     },
     "execution_count": 49,
     "metadata": {},
     "output_type": "execute_result"
    }
   ],
   "source": [
    "df_res.head()"
   ]
  },
  {
   "cell_type": "code",
   "execution_count": 56,
   "metadata": {},
   "outputs": [],
   "source": [
    "df_win_home = df_res.loc[df_res.FTR==\"H\", ['Date', 'HomeTeam', 'FTHG']]"
   ]
  },
  {
   "cell_type": "code",
   "execution_count": 58,
   "metadata": {},
   "outputs": [],
   "source": [
    "df_win_away = df_res.loc[df_res.FTR==\"A\", ['Date', 'AwayTeam', 'FTAG']]"
   ]
  },
  {
   "cell_type": "code",
   "execution_count": 61,
   "metadata": {},
   "outputs": [],
   "source": [
    "df_win_away = df_win_away.rename(columns={'AwayTeam': 'Team', \"FTAG\": \"Goals\"})"
   ]
  },
  {
   "cell_type": "code",
   "execution_count": 62,
   "metadata": {},
   "outputs": [],
   "source": [
    "df_win_home = df_win_home.rename(columns={'HomeTeam': 'Team', \"FTHG\": \"Goals\"})"
   ]
  },
  {
   "cell_type": "code",
   "execution_count": 66,
   "metadata": {},
   "outputs": [],
   "source": [
    "df_win = pd.concat([df_win_home, df_win_away])"
   ]
  },
  {
   "cell_type": "code",
   "execution_count": 67,
   "metadata": {},
   "outputs": [
    {
     "data": {
      "text/html": [
       "<div>\n",
       "<style scoped>\n",
       "    .dataframe tbody tr th:only-of-type {\n",
       "        vertical-align: middle;\n",
       "    }\n",
       "\n",
       "    .dataframe tbody tr th {\n",
       "        vertical-align: top;\n",
       "    }\n",
       "\n",
       "    .dataframe thead th {\n",
       "        text-align: right;\n",
       "    }\n",
       "</style>\n",
       "<table border=\"1\" class=\"dataframe\">\n",
       "  <thead>\n",
       "    <tr style=\"text-align: right;\">\n",
       "      <th></th>\n",
       "      <th>Date</th>\n",
       "      <th>Team</th>\n",
       "      <th>Goals</th>\n",
       "    </tr>\n",
       "  </thead>\n",
       "  <tbody>\n",
       "    <tr>\n",
       "      <th>3</th>\n",
       "      <td>2011-11-27</td>\n",
       "      <td>Mainz</td>\n",
       "      <td>3</td>\n",
       "    </tr>\n",
       "    <tr>\n",
       "      <th>5</th>\n",
       "      <td>2012-01-20</td>\n",
       "      <td>M'gladbach</td>\n",
       "      <td>3</td>\n",
       "    </tr>\n",
       "    <tr>\n",
       "      <th>9</th>\n",
       "      <td>2011-10-23</td>\n",
       "      <td>Hannover</td>\n",
       "      <td>2</td>\n",
       "    </tr>\n",
       "    <tr>\n",
       "      <th>11</th>\n",
       "      <td>2012-03-03</td>\n",
       "      <td>Leverkusen</td>\n",
       "      <td>2</td>\n",
       "    </tr>\n",
       "    <tr>\n",
       "      <th>16</th>\n",
       "      <td>2012-04-11</td>\n",
       "      <td>Dortmund</td>\n",
       "      <td>1</td>\n",
       "    </tr>\n",
       "  </tbody>\n",
       "</table>\n",
       "</div>"
      ],
      "text/plain": [
       "         Date        Team  Goals\n",
       "3  2011-11-27       Mainz      3\n",
       "5  2012-01-20  M'gladbach      3\n",
       "9  2011-10-23    Hannover      2\n",
       "11 2012-03-03  Leverkusen      2\n",
       "16 2012-04-11    Dortmund      1"
      ]
     },
     "execution_count": 67,
     "metadata": {},
     "output_type": "execute_result"
    }
   ],
   "source": [
    "df_win.head()"
   ]
  },
  {
   "cell_type": "code",
   "execution_count": 68,
   "metadata": {},
   "outputs": [],
   "source": [
    "df_lose_home = df_res.loc[df_res.FTR==\"A\", ['Date', 'HomeTeam', 'FTHG']]"
   ]
  },
  {
   "cell_type": "code",
   "execution_count": 69,
   "metadata": {},
   "outputs": [],
   "source": [
    "df_lose_away = df_res.loc[df_res.FTR==\"H\", ['Date', 'AwayTeam', 'FTAG']]"
   ]
  },
  {
   "cell_type": "code",
   "execution_count": 70,
   "metadata": {},
   "outputs": [],
   "source": [
    "df_lose_away = df_lose_away.rename(columns={'AwayTeam': 'Team', \"FTAG\": \"Goals\"})"
   ]
  },
  {
   "cell_type": "code",
   "execution_count": 71,
   "metadata": {},
   "outputs": [],
   "source": [
    "df_lose_home = df_lose_home.rename(columns={'HomeTeam': 'Team', \"FTHG\": \"Goals\"})"
   ]
  },
  {
   "cell_type": "code",
   "execution_count": 73,
   "metadata": {},
   "outputs": [],
   "source": [
    "df_lose = pd.concat([df_lose_home, df_lose_away])"
   ]
  },
  {
   "cell_type": "code",
   "execution_count": 74,
   "metadata": {},
   "outputs": [
    {
     "data": {
      "text/html": [
       "<div>\n",
       "<style scoped>\n",
       "    .dataframe tbody tr th:only-of-type {\n",
       "        vertical-align: middle;\n",
       "    }\n",
       "\n",
       "    .dataframe tbody tr th {\n",
       "        vertical-align: top;\n",
       "    }\n",
       "\n",
       "    .dataframe thead th {\n",
       "        text-align: right;\n",
       "    }\n",
       "</style>\n",
       "<table border=\"1\" class=\"dataframe\">\n",
       "  <thead>\n",
       "    <tr style=\"text-align: right;\">\n",
       "      <th></th>\n",
       "      <th>Date</th>\n",
       "      <th>Team</th>\n",
       "      <th>Goals</th>\n",
       "    </tr>\n",
       "  </thead>\n",
       "  <tbody>\n",
       "    <tr>\n",
       "      <th>0</th>\n",
       "      <td>2012-03-31</td>\n",
       "      <td>Nurnberg</td>\n",
       "      <td>0</td>\n",
       "    </tr>\n",
       "    <tr>\n",
       "      <th>1</th>\n",
       "      <td>2011-12-11</td>\n",
       "      <td>Stuttgart</td>\n",
       "      <td>1</td>\n",
       "    </tr>\n",
       "    <tr>\n",
       "      <th>2</th>\n",
       "      <td>2011-08-13</td>\n",
       "      <td>Wolfsburg</td>\n",
       "      <td>0</td>\n",
       "    </tr>\n",
       "    <tr>\n",
       "      <th>7</th>\n",
       "      <td>2012-04-21</td>\n",
       "      <td>Werder Bremen</td>\n",
       "      <td>1</td>\n",
       "    </tr>\n",
       "    <tr>\n",
       "      <th>8</th>\n",
       "      <td>2011-09-18</td>\n",
       "      <td>Schalke 04</td>\n",
       "      <td>0</td>\n",
       "    </tr>\n",
       "  </tbody>\n",
       "</table>\n",
       "</div>"
      ],
      "text/plain": [
       "        Date           Team  Goals\n",
       "0 2012-03-31       Nurnberg      0\n",
       "1 2011-12-11      Stuttgart      1\n",
       "2 2011-08-13      Wolfsburg      0\n",
       "7 2012-04-21  Werder Bremen      1\n",
       "8 2011-09-18     Schalke 04      0"
      ]
     },
     "execution_count": 74,
     "metadata": {},
     "output_type": "execute_result"
    }
   ],
   "source": [
    "df_lose.head()"
   ]
  },
  {
   "cell_type": "code",
   "execution_count": 142,
   "metadata": {},
   "outputs": [
    {
     "data": {
      "text/html": [
       "<div>\n",
       "<style scoped>\n",
       "    .dataframe tbody tr th:only-of-type {\n",
       "        vertical-align: middle;\n",
       "    }\n",
       "\n",
       "    .dataframe tbody tr th {\n",
       "        vertical-align: top;\n",
       "    }\n",
       "\n",
       "    .dataframe thead th {\n",
       "        text-align: right;\n",
       "    }\n",
       "</style>\n",
       "<table border=\"1\" class=\"dataframe\">\n",
       "  <thead>\n",
       "    <tr style=\"text-align: right;\">\n",
       "      <th></th>\n",
       "      <th>Date</th>\n",
       "      <th>Team</th>\n",
       "      <th>Goals</th>\n",
       "    </tr>\n",
       "  </thead>\n",
       "  <tbody>\n",
       "    <tr>\n",
       "      <th>3</th>\n",
       "      <td>2011-11-27</td>\n",
       "      <td>Mainz</td>\n",
       "      <td>3</td>\n",
       "    </tr>\n",
       "    <tr>\n",
       "      <th>5</th>\n",
       "      <td>2012-01-20</td>\n",
       "      <td>M'gladbach</td>\n",
       "      <td>3</td>\n",
       "    </tr>\n",
       "    <tr>\n",
       "      <th>9</th>\n",
       "      <td>2011-10-23</td>\n",
       "      <td>Hannover</td>\n",
       "      <td>2</td>\n",
       "    </tr>\n",
       "    <tr>\n",
       "      <th>11</th>\n",
       "      <td>2012-03-03</td>\n",
       "      <td>Leverkusen</td>\n",
       "      <td>2</td>\n",
       "    </tr>\n",
       "    <tr>\n",
       "      <th>16</th>\n",
       "      <td>2012-04-11</td>\n",
       "      <td>Dortmund</td>\n",
       "      <td>1</td>\n",
       "    </tr>\n",
       "    <tr>\n",
       "      <th>21</th>\n",
       "      <td>2011-08-13</td>\n",
       "      <td>Hoffenheim</td>\n",
       "      <td>1</td>\n",
       "    </tr>\n",
       "    <tr>\n",
       "      <th>26</th>\n",
       "      <td>2011-09-18</td>\n",
       "      <td>Hannover</td>\n",
       "      <td>2</td>\n",
       "    </tr>\n",
       "    <tr>\n",
       "      <th>36</th>\n",
       "      <td>2012-03-16</td>\n",
       "      <td>Ein Frankfurt</td>\n",
       "      <td>3</td>\n",
       "    </tr>\n",
       "    <tr>\n",
       "      <th>38</th>\n",
       "      <td>2011-08-06</td>\n",
       "      <td>Greuther Furth</td>\n",
       "      <td>1</td>\n",
       "    </tr>\n",
       "    <tr>\n",
       "      <th>39</th>\n",
       "      <td>2011-11-04</td>\n",
       "      <td>Fortuna Dusseldorf</td>\n",
       "      <td>2</td>\n",
       "    </tr>\n",
       "    <tr>\n",
       "      <th>40</th>\n",
       "      <td>2011-09-16</td>\n",
       "      <td>Ingolstadt</td>\n",
       "      <td>4</td>\n",
       "    </tr>\n",
       "    <tr>\n",
       "      <th>41</th>\n",
       "      <td>2011-07-15</td>\n",
       "      <td>Cottbus</td>\n",
       "      <td>2</td>\n",
       "    </tr>\n",
       "    <tr>\n",
       "      <th>42</th>\n",
       "      <td>2011-11-27</td>\n",
       "      <td>St Pauli</td>\n",
       "      <td>3</td>\n",
       "    </tr>\n",
       "    <tr>\n",
       "      <th>44</th>\n",
       "      <td>2012-02-11</td>\n",
       "      <td>Union Berlin</td>\n",
       "      <td>4</td>\n",
       "    </tr>\n",
       "    <tr>\n",
       "      <th>47</th>\n",
       "      <td>2012-04-11</td>\n",
       "      <td>Karlsruhe</td>\n",
       "      <td>2</td>\n",
       "    </tr>\n",
       "    <tr>\n",
       "      <th>50</th>\n",
       "      <td>2011-08-26</td>\n",
       "      <td>Duisburg</td>\n",
       "      <td>3</td>\n",
       "    </tr>\n",
       "    <tr>\n",
       "      <th>52</th>\n",
       "      <td>2012-02-24</td>\n",
       "      <td>Dresden</td>\n",
       "      <td>2</td>\n",
       "    </tr>\n",
       "    <tr>\n",
       "      <th>54</th>\n",
       "      <td>2011-07-17</td>\n",
       "      <td>Karlsruhe</td>\n",
       "      <td>3</td>\n",
       "    </tr>\n",
       "    <tr>\n",
       "      <th>55</th>\n",
       "      <td>2012-04-11</td>\n",
       "      <td>Munich 1860</td>\n",
       "      <td>2</td>\n",
       "    </tr>\n",
       "    <tr>\n",
       "      <th>57</th>\n",
       "      <td>2012-02-12</td>\n",
       "      <td>Hansa Rostock</td>\n",
       "      <td>4</td>\n",
       "    </tr>\n",
       "    <tr>\n",
       "      <th>58</th>\n",
       "      <td>2011-08-22</td>\n",
       "      <td>St Pauli</td>\n",
       "      <td>2</td>\n",
       "    </tr>\n",
       "    <tr>\n",
       "      <th>59</th>\n",
       "      <td>2011-10-23</td>\n",
       "      <td>Ein Frankfurt</td>\n",
       "      <td>3</td>\n",
       "    </tr>\n",
       "    <tr>\n",
       "      <th>60</th>\n",
       "      <td>2011-09-09</td>\n",
       "      <td>Greuther Furth</td>\n",
       "      <td>2</td>\n",
       "    </tr>\n",
       "    <tr>\n",
       "      <th>62</th>\n",
       "      <td>2011-09-25</td>\n",
       "      <td>Bochum</td>\n",
       "      <td>2</td>\n",
       "    </tr>\n",
       "    <tr>\n",
       "      <th>73</th>\n",
       "      <td>2012-04-07</td>\n",
       "      <td>Duisburg</td>\n",
       "      <td>2</td>\n",
       "    </tr>\n",
       "    <tr>\n",
       "      <th>76</th>\n",
       "      <td>2012-05-06</td>\n",
       "      <td>Karlsruhe</td>\n",
       "      <td>1</td>\n",
       "    </tr>\n",
       "    <tr>\n",
       "      <th>80</th>\n",
       "      <td>2012-02-26</td>\n",
       "      <td>Paderborn</td>\n",
       "      <td>4</td>\n",
       "    </tr>\n",
       "    <tr>\n",
       "      <th>81</th>\n",
       "      <td>2011-12-19</td>\n",
       "      <td>St Pauli</td>\n",
       "      <td>2</td>\n",
       "    </tr>\n",
       "    <tr>\n",
       "      <th>83</th>\n",
       "      <td>2011-11-26</td>\n",
       "      <td>Munich 1860</td>\n",
       "      <td>2</td>\n",
       "    </tr>\n",
       "    <tr>\n",
       "      <th>86</th>\n",
       "      <td>2011-12-16</td>\n",
       "      <td>Bayern Munich</td>\n",
       "      <td>3</td>\n",
       "    </tr>\n",
       "    <tr>\n",
       "      <th>...</th>\n",
       "      <td>...</td>\n",
       "      <td>...</td>\n",
       "      <td>...</td>\n",
       "    </tr>\n",
       "    <tr>\n",
       "      <th>877</th>\n",
       "      <td>2012-03-03</td>\n",
       "      <td>Swansea</td>\n",
       "      <td>2</td>\n",
       "    </tr>\n",
       "    <tr>\n",
       "      <th>880</th>\n",
       "      <td>2012-03-04</td>\n",
       "      <td>Man United</td>\n",
       "      <td>3</td>\n",
       "    </tr>\n",
       "    <tr>\n",
       "      <th>886</th>\n",
       "      <td>2012-03-10</td>\n",
       "      <td>Blackburn</td>\n",
       "      <td>2</td>\n",
       "    </tr>\n",
       "    <tr>\n",
       "      <th>892</th>\n",
       "      <td>2012-03-17</td>\n",
       "      <td>Swansea</td>\n",
       "      <td>3</td>\n",
       "    </tr>\n",
       "    <tr>\n",
       "      <th>895</th>\n",
       "      <td>2012-03-18</td>\n",
       "      <td>Man United</td>\n",
       "      <td>5</td>\n",
       "    </tr>\n",
       "    <tr>\n",
       "      <th>897</th>\n",
       "      <td>2012-03-21</td>\n",
       "      <td>Arsenal</td>\n",
       "      <td>1</td>\n",
       "    </tr>\n",
       "    <tr>\n",
       "      <th>904</th>\n",
       "      <td>2012-03-24</td>\n",
       "      <td>Wigan</td>\n",
       "      <td>2</td>\n",
       "    </tr>\n",
       "    <tr>\n",
       "      <th>908</th>\n",
       "      <td>2012-03-24</td>\n",
       "      <td>Everton</td>\n",
       "      <td>2</td>\n",
       "    </tr>\n",
       "    <tr>\n",
       "      <th>909</th>\n",
       "      <td>2012-03-25</td>\n",
       "      <td>Newcastle</td>\n",
       "      <td>3</td>\n",
       "    </tr>\n",
       "    <tr>\n",
       "      <th>911</th>\n",
       "      <td>2012-03-31</td>\n",
       "      <td>Chelsea</td>\n",
       "      <td>4</td>\n",
       "    </tr>\n",
       "    <tr>\n",
       "      <th>917</th>\n",
       "      <td>2012-03-31</td>\n",
       "      <td>Bolton</td>\n",
       "      <td>3</td>\n",
       "    </tr>\n",
       "    <tr>\n",
       "      <th>920</th>\n",
       "      <td>2012-04-02</td>\n",
       "      <td>Man United</td>\n",
       "      <td>2</td>\n",
       "    </tr>\n",
       "    <tr>\n",
       "      <th>921</th>\n",
       "      <td>2012-04-06</td>\n",
       "      <td>Newcastle</td>\n",
       "      <td>2</td>\n",
       "    </tr>\n",
       "    <tr>\n",
       "      <th>922</th>\n",
       "      <td>2012-04-07</td>\n",
       "      <td>Fulham</td>\n",
       "      <td>3</td>\n",
       "    </tr>\n",
       "    <tr>\n",
       "      <th>935</th>\n",
       "      <td>2012-04-09</td>\n",
       "      <td>Norwich</td>\n",
       "      <td>2</td>\n",
       "    </tr>\n",
       "    <tr>\n",
       "      <th>936</th>\n",
       "      <td>2012-04-10</td>\n",
       "      <td>Liverpool</td>\n",
       "      <td>3</td>\n",
       "    </tr>\n",
       "    <tr>\n",
       "      <th>940</th>\n",
       "      <td>2012-04-11</td>\n",
       "      <td>Arsenal</td>\n",
       "      <td>3</td>\n",
       "    </tr>\n",
       "    <tr>\n",
       "      <th>941</th>\n",
       "      <td>2012-04-14</td>\n",
       "      <td>Man City</td>\n",
       "      <td>6</td>\n",
       "    </tr>\n",
       "    <tr>\n",
       "      <th>946</th>\n",
       "      <td>2012-04-16</td>\n",
       "      <td>Wigan</td>\n",
       "      <td>2</td>\n",
       "    </tr>\n",
       "    <tr>\n",
       "      <th>954</th>\n",
       "      <td>2012-04-22</td>\n",
       "      <td>West Brom</td>\n",
       "      <td>1</td>\n",
       "    </tr>\n",
       "    <tr>\n",
       "      <th>956</th>\n",
       "      <td>2012-04-22</td>\n",
       "      <td>Man City</td>\n",
       "      <td>2</td>\n",
       "    </tr>\n",
       "    <tr>\n",
       "      <th>957</th>\n",
       "      <td>2012-04-24</td>\n",
       "      <td>Bolton</td>\n",
       "      <td>2</td>\n",
       "    </tr>\n",
       "    <tr>\n",
       "      <th>959</th>\n",
       "      <td>2012-04-28</td>\n",
       "      <td>Liverpool</td>\n",
       "      <td>3</td>\n",
       "    </tr>\n",
       "    <tr>\n",
       "      <th>968</th>\n",
       "      <td>2012-05-01</td>\n",
       "      <td>Fulham</td>\n",
       "      <td>1</td>\n",
       "    </tr>\n",
       "    <tr>\n",
       "      <th>970</th>\n",
       "      <td>2012-05-02</td>\n",
       "      <td>Tottenham</td>\n",
       "      <td>4</td>\n",
       "    </tr>\n",
       "    <tr>\n",
       "      <th>971</th>\n",
       "      <td>2012-05-02</td>\n",
       "      <td>Newcastle</td>\n",
       "      <td>2</td>\n",
       "    </tr>\n",
       "    <tr>\n",
       "      <th>977</th>\n",
       "      <td>2012-05-06</td>\n",
       "      <td>Man City</td>\n",
       "      <td>2</td>\n",
       "    </tr>\n",
       "    <tr>\n",
       "      <th>980</th>\n",
       "      <td>2012-05-07</td>\n",
       "      <td>Wigan</td>\n",
       "      <td>1</td>\n",
       "    </tr>\n",
       "    <tr>\n",
       "      <th>987</th>\n",
       "      <td>2012-05-13</td>\n",
       "      <td>Man United</td>\n",
       "      <td>1</td>\n",
       "    </tr>\n",
       "    <tr>\n",
       "      <th>990</th>\n",
       "      <td>2012-05-13</td>\n",
       "      <td>Arsenal</td>\n",
       "      <td>3</td>\n",
       "    </tr>\n",
       "  </tbody>\n",
       "</table>\n",
       "<p>729 rows × 3 columns</p>\n",
       "</div>"
      ],
      "text/plain": [
       "          Date                Team  Goals\n",
       "3   2011-11-27               Mainz      3\n",
       "5   2012-01-20          M'gladbach      3\n",
       "9   2011-10-23            Hannover      2\n",
       "11  2012-03-03          Leverkusen      2\n",
       "16  2012-04-11            Dortmund      1\n",
       "21  2011-08-13          Hoffenheim      1\n",
       "26  2011-09-18            Hannover      2\n",
       "36  2012-03-16       Ein Frankfurt      3\n",
       "38  2011-08-06      Greuther Furth      1\n",
       "39  2011-11-04  Fortuna Dusseldorf      2\n",
       "40  2011-09-16          Ingolstadt      4\n",
       "41  2011-07-15             Cottbus      2\n",
       "42  2011-11-27            St Pauli      3\n",
       "44  2012-02-11        Union Berlin      4\n",
       "47  2012-04-11           Karlsruhe      2\n",
       "50  2011-08-26            Duisburg      3\n",
       "52  2012-02-24             Dresden      2\n",
       "54  2011-07-17           Karlsruhe      3\n",
       "55  2012-04-11         Munich 1860      2\n",
       "57  2012-02-12       Hansa Rostock      4\n",
       "58  2011-08-22            St Pauli      2\n",
       "59  2011-10-23       Ein Frankfurt      3\n",
       "60  2011-09-09      Greuther Furth      2\n",
       "62  2011-09-25              Bochum      2\n",
       "73  2012-04-07            Duisburg      2\n",
       "76  2012-05-06           Karlsruhe      1\n",
       "80  2012-02-26           Paderborn      4\n",
       "81  2011-12-19            St Pauli      2\n",
       "83  2011-11-26         Munich 1860      2\n",
       "86  2011-12-16       Bayern Munich      3\n",
       "..         ...                 ...    ...\n",
       "877 2012-03-03             Swansea      2\n",
       "880 2012-03-04          Man United      3\n",
       "886 2012-03-10           Blackburn      2\n",
       "892 2012-03-17             Swansea      3\n",
       "895 2012-03-18          Man United      5\n",
       "897 2012-03-21             Arsenal      1\n",
       "904 2012-03-24               Wigan      2\n",
       "908 2012-03-24             Everton      2\n",
       "909 2012-03-25           Newcastle      3\n",
       "911 2012-03-31             Chelsea      4\n",
       "917 2012-03-31              Bolton      3\n",
       "920 2012-04-02          Man United      2\n",
       "921 2012-04-06           Newcastle      2\n",
       "922 2012-04-07              Fulham      3\n",
       "935 2012-04-09             Norwich      2\n",
       "936 2012-04-10           Liverpool      3\n",
       "940 2012-04-11             Arsenal      3\n",
       "941 2012-04-14            Man City      6\n",
       "946 2012-04-16               Wigan      2\n",
       "954 2012-04-22           West Brom      1\n",
       "956 2012-04-22            Man City      2\n",
       "957 2012-04-24              Bolton      2\n",
       "959 2012-04-28           Liverpool      3\n",
       "968 2012-05-01              Fulham      1\n",
       "970 2012-05-02           Tottenham      4\n",
       "971 2012-05-02           Newcastle      2\n",
       "977 2012-05-06            Man City      2\n",
       "980 2012-05-07               Wigan      1\n",
       "987 2012-05-13          Man United      1\n",
       "990 2012-05-13             Arsenal      3\n",
       "\n",
       "[729 rows x 3 columns]"
      ]
     },
     "execution_count": 142,
     "metadata": {},
     "output_type": "execute_result"
    }
   ],
   "source": [
    "df_win"
   ]
  },
  {
   "cell_type": "code",
   "execution_count": null,
   "metadata": {},
   "outputs": [],
   "source": [
    "def winlose(team, wins, losses):\n",
    "    "
   ]
  },
  {
   "cell_type": "code",
   "execution_count": 158,
   "metadata": {},
   "outputs": [],
   "source": [
    "wins = df_win.loc[(df_win['Team']=='Mainz'), ['Goals']]\n",
    "losses = df_lose.loc[(df_lose['Team']=='Mainz'), ['Goals']]\n",
    "losses = list(losses.Goals)\n",
    "wins = list(wins.Goals)"
   ]
  },
  {
   "cell_type": "code",
   "execution_count": 166,
   "metadata": {},
   "outputs": [
    {
     "data": {
      "text/plain": [
       "[3, 4, 3, 4, 2, 2, 3, 2, 3]"
      ]
     },
     "execution_count": 166,
     "metadata": {},
     "output_type": "execute_result"
    }
   ],
   "source": [
    "wins"
   ]
  },
  {
   "cell_type": "code",
   "execution_count": 169,
   "metadata": {},
   "outputs": [],
   "source": [
    "def winloss(team):\n",
    "    wins = df_win.loc[(df_win['Team']==team), ['Goals']]\n",
    "    losses = df_lose.loc[(df_lose['Team']==team), ['Goals']]\n",
    "    losses = list(losses.Goals)\n",
    "    wins = list(wins.Goals)\n",
    "    plt.figure(figsize = (10,8))\n",
    "    plt.hist(x=wins, bins = (max(wins)+1), density = True, alpha =.5, color = 'blue')\n",
    "    plt.hist(x=losses, bins = (max(wins)+1), density = True, alpha = .5, color = 'green')\n",
    "    plt.xticks(range(max(wins)+1))\n",
    "    print(list(wins))\n",
    "    print(list(losses))"
   ]
  },
  {
   "cell_type": "code",
   "execution_count": 170,
   "metadata": {},
   "outputs": [
    {
     "name": "stdout",
     "output_type": "stream",
     "text": [
      "[3, 4, 3, 4, 2, 2, 3, 2, 3]\n",
      "[1, 2, 1, 1, 0, 0, 0, 1, 0, 2, 1, 1, 1]\n"
     ]
    },
    {
     "data": {
      "image/png": "[encoded data removed]",
      "text/plain": [
       "<Figure size 720x576 with 1 Axes>"
      ]
     },
     "metadata": {
      "needs_background": "light"
     },
     "output_type": "display_data"
    }
   ],
   "source": [
    "winloss('Mainz')"
   ]
  },
  {
   "cell_type": "code",
   "execution_count": null,
   "metadata": {},
   "outputs": [],
   "source": [
    "for "
   ]
  }
 ],
 "metadata": {
  "kernelspec": {
   "display_name": "Python 3",
   "language": "python",
   "name": "python3"
  },
  "language_info": {
   "codemirror_mode": {
    "name": "ipython",
    "version": 3
   },
   "file_extension": ".py",
   "mimetype": "text/x-python",
   "name": "python",
   "nbconvert_exporter": "python",
   "pygments_lexer": "ipython3",
   "version": "3.7.3"
  }
 },
 "nbformat": 4,
 "nbformat_minor": 2
}
