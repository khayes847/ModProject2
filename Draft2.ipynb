{
 "cells": [
  {
   "cell_type": "code",
   "execution_count": 1,
   "metadata": {},
   "outputs": [],
   "source": [
    "# Importing programs, porting in database\n",
    "import sqlite3\n",
    "import pandas as pd\n",
    "conn = sqlite3.connect('database.sqlite')\n",
    "c = conn.cursor()"
   ]
  },
  {
   "cell_type": "code",
   "execution_count": 2,
   "metadata": {},
   "outputs": [],
   "source": [
    "# Creating dataset for each team with total number of home\n",
    "# games played, and home goals scored.\n",
    "c.execute(\"\"\"select distinct HomeTeam as team,\n",
    "                    count(HomeTeam) as homeGames,\n",
    "                    sum(FTHG) as homeGoals\n",
    "                    from matches\n",
    "                    where Season == 2011\n",
    "                    group by 1;\"\"\")\n",
    "df_home = pd.DataFrame(c.fetchall())\n",
    "df_home.columns = [x[0] for x in c.description]"
   ]
  },
  {
   "cell_type": "code",
   "execution_count": 3,
   "metadata": {},
   "outputs": [],
   "source": [
    "# Creating dataset for each team with total number of away\n",
    "# games played, and away goals scored.\n",
    "c.execute(\"\"\"select distinct AwayTeam as team,\n",
    "                    count(AwayTeam) as awayGames,\n",
    "                    sum(FTAG) as awayGoals\n",
    "                    from matches\n",
    "                    where Season == 2011\n",
    "                    group by 1;\"\"\")\n",
    "df_away = pd.DataFrame(c.fetchall())\n",
    "df_away.columns = [x[0] for x in c.description]"
   ]
  },
  {
   "cell_type": "code",
   "execution_count": 4,
   "metadata": {},
   "outputs": [],
   "source": [
    "# Merging datasets\n",
    "df_total = pd.merge(df_home, df_away, on=\"team\")"
   ]
  },
  {
   "cell_type": "code",
   "execution_count": 5,
   "metadata": {},
   "outputs": [],
   "source": [
    "# Summing total games played.\n",
    "df_total['totalGamesplayed'] = df_total.apply(\n",
    "    (lambda x: x['homeGames']+x['awayGames']), axis=1)"
   ]
  },
  {
   "cell_type": "code",
   "execution_count": 6,
   "metadata": {},
   "outputs": [],
   "source": [
    "# Summing total goals earned.\n",
    "df_total['totalPointsearned'] = df_total.apply(\n",
    "    (lambda x: x['homeGoals']+x['awayGoals']), axis=1)"
   ]
  },
  {
   "cell_type": "code",
   "execution_count": 7,
   "metadata": {},
   "outputs": [],
   "source": [
    "# Dropping unnecessary columns\n",
    "df_total = df_total.drop(\n",
    "    columns=['homeGames', 'homeGoals', 'awayGames', 'awayGoals'])"
   ]
  },
  {
   "cell_type": "code",
   "execution_count": 8,
   "metadata": {},
   "outputs": [],
   "source": [
    "# Creating list of home teams, away teams, and winners\n",
    "c.execute(\"\"\"select date, HomeTeam, AwayTeam, FTR\n",
    "                    from matches\n",
    "                    where Season == 2011;\"\"\")\n",
    "df_res = pd.DataFrame(c.fetchall())\n",
    "df_res.columns = [x[0] for x in c.description]"
   ]
  },
  {
   "cell_type": "code",
   "execution_count": 9,
   "metadata": {},
   "outputs": [],
   "source": [
    "# Changing date to datetime\n",
    "df_res['Date'] = df_res.Date.map(lambda x:\n",
    "                                 pd.to_datetime(x[:10],\n",
    "                                                format='%Y/%m/%d'))"
   ]
  },
  {
   "cell_type": "code",
   "execution_count": 10,
   "metadata": {},
   "outputs": [],
   "source": [
    "# Creating a list of winning and losing teams for each game\n",
    "df_res['gamesWon'] = df_res.apply((lambda x: x['HomeTeam'] if x['FTR'] == \"H\" else (\n",
    "    x['AwayTeam'] if x['FTR'] == \"A\" else \"Draw\")), axis=1)\n",
    "\n",
    "df_res['gamesLost'] = df_res.apply((lambda x: x['HomeTeam'] if x['FTR'] == \"A\" else (\n",
    "    x['AwayTeam'] if x['FTR'] == \"H\" else \"Draw\")), axis=1)"
   ]
  },
  {
   "cell_type": "code",
   "execution_count": 11,
   "metadata": {},
   "outputs": [],
   "source": [
    "# Counting number of games each team has won and lost\n",
    "lc_df = df_res['gamesLost'].value_counts()\n",
    "wc_df = df_res['gamesWon'].value_counts()"
   ]
  },
  {
   "cell_type": "code",
   "execution_count": 12,
   "metadata": {},
   "outputs": [],
   "source": [
    "# Resetting indexes\n",
    "lc_df = lc_df.reset_index()\n",
    "wc_df = wc_df.reset_index()"
   ]
  },
  {
   "cell_type": "code",
   "execution_count": 13,
   "metadata": {},
   "outputs": [],
   "source": [
    "# Merge win and loss datasets\n",
    "df_all = pd.merge(wc_df, lc_df, on=\"index\")"
   ]
  },
  {
   "cell_type": "code",
   "execution_count": 14,
   "metadata": {},
   "outputs": [],
   "source": [
    "# Change column name\n",
    "df_all = df_all.rename(columns={'index': 'team'})"
   ]
  },
  {
   "cell_type": "code",
   "execution_count": 15,
   "metadata": {},
   "outputs": [],
   "source": [
    "# Merge datasets\n",
    "df_total = df_total.merge(df_all, how=\"left\", on=\"team\")"
   ]
  },
  {
   "cell_type": "code",
   "execution_count": 16,
   "metadata": {},
   "outputs": [
    {
     "data": {
      "text/html": [
       "<div>\n",
       "<style scoped>\n",
       "    .dataframe tbody tr th:only-of-type {\n",
       "        vertical-align: middle;\n",
       "    }\n",
       "\n",
       "    .dataframe tbody tr th {\n",
       "        vertical-align: top;\n",
       "    }\n",
       "\n",
       "    .dataframe thead th {\n",
       "        text-align: right;\n",
       "    }\n",
       "</style>\n",
       "<table border=\"1\" class=\"dataframe\">\n",
       "  <thead>\n",
       "    <tr style=\"text-align: right;\">\n",
       "      <th></th>\n",
       "      <th>team</th>\n",
       "      <th>totalGamesplayed</th>\n",
       "      <th>totalPointsearned</th>\n",
       "      <th>gamesWon</th>\n",
       "      <th>gamesLost</th>\n",
       "    </tr>\n",
       "  </thead>\n",
       "  <tbody>\n",
       "    <tr>\n",
       "      <th>0</th>\n",
       "      <td>Aachen</td>\n",
       "      <td>34</td>\n",
       "      <td>30</td>\n",
       "      <td>6</td>\n",
       "      <td>15</td>\n",
       "    </tr>\n",
       "    <tr>\n",
       "      <th>1</th>\n",
       "      <td>Arsenal</td>\n",
       "      <td>38</td>\n",
       "      <td>74</td>\n",
       "      <td>21</td>\n",
       "      <td>10</td>\n",
       "    </tr>\n",
       "    <tr>\n",
       "      <th>2</th>\n",
       "      <td>Aston Villa</td>\n",
       "      <td>38</td>\n",
       "      <td>37</td>\n",
       "      <td>7</td>\n",
       "      <td>14</td>\n",
       "    </tr>\n",
       "    <tr>\n",
       "      <th>3</th>\n",
       "      <td>Augsburg</td>\n",
       "      <td>34</td>\n",
       "      <td>36</td>\n",
       "      <td>8</td>\n",
       "      <td>12</td>\n",
       "    </tr>\n",
       "    <tr>\n",
       "      <th>4</th>\n",
       "      <td>Bayern Munich</td>\n",
       "      <td>34</td>\n",
       "      <td>77</td>\n",
       "      <td>23</td>\n",
       "      <td>7</td>\n",
       "    </tr>\n",
       "  </tbody>\n",
       "</table>\n",
       "</div>"
      ],
      "text/plain": [
       "            team  totalGamesplayed  totalPointsearned  gamesWon  gamesLost\n",
       "0         Aachen                34                 30         6         15\n",
       "1        Arsenal                38                 74        21         10\n",
       "2    Aston Villa                38                 37         7         14\n",
       "3       Augsburg                34                 36         8         12\n",
       "4  Bayern Munich                34                 77        23          7"
      ]
     },
     "execution_count": 16,
     "metadata": {},
     "output_type": "execute_result"
    }
   ],
   "source": [
    "df_total.head()"
   ]
  },
  {
   "cell_type": "code",
   "execution_count": null,
   "metadata": {},
   "outputs": [],
   "source": []
  }
 ],
 "metadata": {
  "kernelspec": {
   "display_name": "Python 3",
   "language": "python",
   "name": "python3"
  },
  "language_info": {
   "codemirror_mode": {
    "name": "ipython",
    "version": 3
   },
   "file_extension": ".py",
   "mimetype": "text/x-python",
   "name": "python",
   "nbconvert_exporter": "python",
   "pygments_lexer": "ipython3",
   "version": "3.7.3"
  }
 },
 "nbformat": 4,
 "nbformat_minor": 2
}
